{
 "cells": [
  {
   "cell_type": "code",
   "execution_count": null,
   "metadata": {},
   "outputs": [],
   "source": [
    "# !python -m pip install pdf2image\n",
    "from pdf2image import convert_from_path\n",
    "\n",
    "from os import listdir\n",
    "from os.path import isfile, join"
   ]
  },
  {
   "cell_type": "code",
   "execution_count": null,
   "metadata": {},
   "outputs": [],
   "source": [
    "# set directory path\n",
    "dir_pth = f\"./\"\n",
    "\n",
    "filenames = [f for f in listdir(dir_pth) if isfile(join(dir_pth, f))]\n",
    "\n",
    "for filename in filenames:\n",
    "    fn, fn_type = filename.split(\".\")\n",
    "    if fn_type == \"pdf\":\n",
    "        pages = convert_from_path(filename, 500)\n",
    "        for i, page in enumerate(pages):\n",
    "            page.save(f'{fn}{i+1}.jpg', 'JPEG')             "
   ]
  },
  {
   "cell_type": "code",
   "execution_count": null,
   "metadata": {},
   "outputs": [],
   "source": [
    "type(page) # Out: PIL.PpmImagePlugin.PpmImageFile"
   ]
  },
  {
   "cell_type": "code",
   "execution_count": null,
   "metadata": {},
   "outputs": [],
   "source": []
  }
 ],
 "metadata": {
  "kernelspec": {
   "display_name": "Python 3",
   "language": "python",
   "name": "python3"
  },
  "language_info": {
   "codemirror_mode": {
    "name": "ipython",
    "version": 3
   },
   "file_extension": ".py",
   "mimetype": "text/x-python",
   "name": "python",
   "nbconvert_exporter": "python",
   "pygments_lexer": "ipython3",
   "version": "3.7.4"
  }
 },
 "nbformat": 4,
 "nbformat_minor": 2
}
